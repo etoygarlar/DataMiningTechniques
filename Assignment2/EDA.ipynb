{
 "cells": [
  {
   "cell_type": "code",
   "execution_count": 3,
   "metadata": {},
   "outputs": [],
   "source": [
    "import pandas as pd\n",
    "import numpy as np\n",
    "import seaborn as sns\n"
   ]
  },
  {
   "cell_type": "code",
   "execution_count": 5,
   "metadata": {},
   "outputs": [],
   "source": [
    "# Convert the csv to hdf for fast reading:\n",
    "#pd.read_csv('path/to/train.csv').to_hdf('data/data.h5', 'train')\n",
    "#pd.read_csv('path/to/test.csv').to_hdf('data/data.h5', 'test')\n",
    "\n",
    "train_data = pd.read_hdf('data/data.h5', 'train')\n",
    "test_data = pd.read_hdf('data/data.h5', 'test')\n"
   ]
  },
  {
   "cell_type": "code",
   "execution_count": 6,
   "metadata": {},
   "outputs": [
    {
     "data": {
      "text/html": [
       "<div>\n",
       "<style scoped>\n",
       "    .dataframe tbody tr th:only-of-type {\n",
       "        vertical-align: middle;\n",
       "    }\n",
       "\n",
       "    .dataframe tbody tr th {\n",
       "        vertical-align: top;\n",
       "    }\n",
       "\n",
       "    .dataframe thead th {\n",
       "        text-align: right;\n",
       "    }\n",
       "</style>\n",
       "<table border=\"1\" class=\"dataframe\">\n",
       "  <thead>\n",
       "    <tr style=\"text-align: right;\">\n",
       "      <th></th>\n",
       "      <th>srch_id</th>\n",
       "      <th>date_time</th>\n",
       "      <th>site_id</th>\n",
       "      <th>visitor_location_country_id</th>\n",
       "      <th>visitor_hist_starrating</th>\n",
       "      <th>visitor_hist_adr_usd</th>\n",
       "      <th>prop_country_id</th>\n",
       "      <th>prop_id</th>\n",
       "      <th>prop_starrating</th>\n",
       "      <th>prop_review_score</th>\n",
       "      <th>...</th>\n",
       "      <th>comp6_rate_percent_diff</th>\n",
       "      <th>comp7_rate</th>\n",
       "      <th>comp7_inv</th>\n",
       "      <th>comp7_rate_percent_diff</th>\n",
       "      <th>comp8_rate</th>\n",
       "      <th>comp8_inv</th>\n",
       "      <th>comp8_rate_percent_diff</th>\n",
       "      <th>click_bool</th>\n",
       "      <th>gross_bookings_usd</th>\n",
       "      <th>booking_bool</th>\n",
       "    </tr>\n",
       "  </thead>\n",
       "  <tbody>\n",
       "    <tr>\n",
       "      <th>0</th>\n",
       "      <td>1</td>\n",
       "      <td>2013-04-04 08:32:15</td>\n",
       "      <td>12</td>\n",
       "      <td>187</td>\n",
       "      <td>NaN</td>\n",
       "      <td>NaN</td>\n",
       "      <td>219</td>\n",
       "      <td>893</td>\n",
       "      <td>3</td>\n",
       "      <td>3.5</td>\n",
       "      <td>...</td>\n",
       "      <td>NaN</td>\n",
       "      <td>NaN</td>\n",
       "      <td>NaN</td>\n",
       "      <td>NaN</td>\n",
       "      <td>0.0</td>\n",
       "      <td>0.0</td>\n",
       "      <td>NaN</td>\n",
       "      <td>0</td>\n",
       "      <td>NaN</td>\n",
       "      <td>0</td>\n",
       "    </tr>\n",
       "    <tr>\n",
       "      <th>1</th>\n",
       "      <td>1</td>\n",
       "      <td>2013-04-04 08:32:15</td>\n",
       "      <td>12</td>\n",
       "      <td>187</td>\n",
       "      <td>NaN</td>\n",
       "      <td>NaN</td>\n",
       "      <td>219</td>\n",
       "      <td>10404</td>\n",
       "      <td>4</td>\n",
       "      <td>4.0</td>\n",
       "      <td>...</td>\n",
       "      <td>NaN</td>\n",
       "      <td>NaN</td>\n",
       "      <td>NaN</td>\n",
       "      <td>NaN</td>\n",
       "      <td>0.0</td>\n",
       "      <td>0.0</td>\n",
       "      <td>NaN</td>\n",
       "      <td>0</td>\n",
       "      <td>NaN</td>\n",
       "      <td>0</td>\n",
       "    </tr>\n",
       "    <tr>\n",
       "      <th>2</th>\n",
       "      <td>1</td>\n",
       "      <td>2013-04-04 08:32:15</td>\n",
       "      <td>12</td>\n",
       "      <td>187</td>\n",
       "      <td>NaN</td>\n",
       "      <td>NaN</td>\n",
       "      <td>219</td>\n",
       "      <td>21315</td>\n",
       "      <td>3</td>\n",
       "      <td>4.5</td>\n",
       "      <td>...</td>\n",
       "      <td>NaN</td>\n",
       "      <td>NaN</td>\n",
       "      <td>NaN</td>\n",
       "      <td>NaN</td>\n",
       "      <td>0.0</td>\n",
       "      <td>0.0</td>\n",
       "      <td>NaN</td>\n",
       "      <td>0</td>\n",
       "      <td>NaN</td>\n",
       "      <td>0</td>\n",
       "    </tr>\n",
       "    <tr>\n",
       "      <th>3</th>\n",
       "      <td>1</td>\n",
       "      <td>2013-04-04 08:32:15</td>\n",
       "      <td>12</td>\n",
       "      <td>187</td>\n",
       "      <td>NaN</td>\n",
       "      <td>NaN</td>\n",
       "      <td>219</td>\n",
       "      <td>27348</td>\n",
       "      <td>2</td>\n",
       "      <td>4.0</td>\n",
       "      <td>...</td>\n",
       "      <td>NaN</td>\n",
       "      <td>NaN</td>\n",
       "      <td>NaN</td>\n",
       "      <td>NaN</td>\n",
       "      <td>-1.0</td>\n",
       "      <td>0.0</td>\n",
       "      <td>5.0</td>\n",
       "      <td>0</td>\n",
       "      <td>NaN</td>\n",
       "      <td>0</td>\n",
       "    </tr>\n",
       "    <tr>\n",
       "      <th>4</th>\n",
       "      <td>1</td>\n",
       "      <td>2013-04-04 08:32:15</td>\n",
       "      <td>12</td>\n",
       "      <td>187</td>\n",
       "      <td>NaN</td>\n",
       "      <td>NaN</td>\n",
       "      <td>219</td>\n",
       "      <td>29604</td>\n",
       "      <td>4</td>\n",
       "      <td>3.5</td>\n",
       "      <td>...</td>\n",
       "      <td>NaN</td>\n",
       "      <td>NaN</td>\n",
       "      <td>NaN</td>\n",
       "      <td>NaN</td>\n",
       "      <td>0.0</td>\n",
       "      <td>0.0</td>\n",
       "      <td>NaN</td>\n",
       "      <td>0</td>\n",
       "      <td>NaN</td>\n",
       "      <td>0</td>\n",
       "    </tr>\n",
       "  </tbody>\n",
       "</table>\n",
       "<p>5 rows × 54 columns</p>\n",
       "</div>"
      ],
      "text/plain": [
       "   srch_id            date_time  site_id  visitor_location_country_id  \\\n",
       "0        1  2013-04-04 08:32:15       12                          187   \n",
       "1        1  2013-04-04 08:32:15       12                          187   \n",
       "2        1  2013-04-04 08:32:15       12                          187   \n",
       "3        1  2013-04-04 08:32:15       12                          187   \n",
       "4        1  2013-04-04 08:32:15       12                          187   \n",
       "\n",
       "   visitor_hist_starrating  visitor_hist_adr_usd  prop_country_id  prop_id  \\\n",
       "0                      NaN                   NaN              219      893   \n",
       "1                      NaN                   NaN              219    10404   \n",
       "2                      NaN                   NaN              219    21315   \n",
       "3                      NaN                   NaN              219    27348   \n",
       "4                      NaN                   NaN              219    29604   \n",
       "\n",
       "   prop_starrating  prop_review_score      ...       comp6_rate_percent_diff  \\\n",
       "0                3                3.5      ...                           NaN   \n",
       "1                4                4.0      ...                           NaN   \n",
       "2                3                4.5      ...                           NaN   \n",
       "3                2                4.0      ...                           NaN   \n",
       "4                4                3.5      ...                           NaN   \n",
       "\n",
       "   comp7_rate  comp7_inv  comp7_rate_percent_diff  comp8_rate  comp8_inv  \\\n",
       "0         NaN        NaN                      NaN         0.0        0.0   \n",
       "1         NaN        NaN                      NaN         0.0        0.0   \n",
       "2         NaN        NaN                      NaN         0.0        0.0   \n",
       "3         NaN        NaN                      NaN        -1.0        0.0   \n",
       "4         NaN        NaN                      NaN         0.0        0.0   \n",
       "\n",
       "   comp8_rate_percent_diff  click_bool  gross_bookings_usd  booking_bool  \n",
       "0                      NaN           0                 NaN             0  \n",
       "1                      NaN           0                 NaN             0  \n",
       "2                      NaN           0                 NaN             0  \n",
       "3                      5.0           0                 NaN             0  \n",
       "4                      NaN           0                 NaN             0  \n",
       "\n",
       "[5 rows x 54 columns]"
      ]
     },
     "execution_count": 6,
     "metadata": {},
     "output_type": "execute_result"
    }
   ],
   "source": [
    "train_data.head()"
   ]
  },
  {
   "cell_type": "markdown",
   "metadata": {},
   "source": []
  },
  {
   "cell_type": "code",
   "execution_count": 7,
   "metadata": {},
   "outputs": [
    {
     "name": "stdout",
     "output_type": "stream",
     "text": [
      "Number of unique srch_id's: 199795\n"
     ]
    }
   ],
   "source": [
    "print(\"Number of unique srch_id's: %s\" % len(train_data.srch_id.unique()))"
   ]
  },
  {
   "cell_type": "code",
   "execution_count": 10,
   "metadata": {},
   "outputs": [
    {
     "name": "stdout",
     "output_type": "stream",
     "text": [
      "Distribution of clicks: \n",
      "click_bool\n",
      "0    4736468\n",
      "1     221879\n",
      "Name: srch_id, dtype: int64\n",
      "Distribution of bookings: \n",
      "booking_bool\n",
      "0    4819957\n",
      "1     138390\n",
      "Name: srch_id, dtype: int64\n",
      "Distribution of clicks and bookings: \n",
      "click_bool  booking_bool\n",
      "0           0               4736468\n",
      "1           0                 83489\n",
      "            1                138390\n",
      "Name: srch_id, dtype: int64\n"
     ]
    }
   ],
   "source": [
    "print(\"Distribution of clicks: \\n%s\" % train_data.groupby('click_bool').srch_id.count())\n",
    "print(\"Distribution of bookings: \\n%s\" % train_data.groupby('booking_bool').srch_id.count())\n",
    "print(\"Distribution of clicks and bookings: \\n%s\" % train_data.groupby(['click_bool', 'booking_bool']).srch_id.count())"
   ]
  },
  {
   "cell_type": "code",
   "execution_count": 15,
   "metadata": {},
   "outputs": [
    {
     "name": "stdout",
     "output_type": "stream",
     "text": [
      "Ratio of nans per feature srch_id                        0.000000\n",
      "date_time                      0.000000\n",
      "site_id                        0.000000\n",
      "visitor_location_country_id    0.000000\n",
      "visitor_hist_starrating        0.949204\n",
      "visitor_hist_adr_usd           0.948977\n",
      "prop_country_id                0.000000\n",
      "prop_id                        0.000000\n",
      "prop_starrating                0.000000\n",
      "prop_review_score              0.001485\n",
      "prop_brand_bool                0.000000\n",
      "prop_location_score1           0.000000\n",
      "prop_location_score2           0.219902\n",
      "prop_log_historical_price      0.000000\n",
      "position                       0.000000\n",
      "price_usd                      0.000000\n",
      "promotion_flag                 0.000000\n",
      "srch_destination_id            0.000000\n",
      "srch_length_of_stay            0.000000\n",
      "srch_booking_window            0.000000\n",
      "srch_adults_count              0.000000\n",
      "srch_children_count            0.000000\n",
      "srch_room_count                0.000000\n",
      "srch_saturday_night_bool       0.000000\n",
      "srch_query_affinity_score      0.935986\n",
      "orig_destination_distance      0.324258\n",
      "random_bool                    0.000000\n",
      "comp1_rate                     0.975813\n",
      "comp1_inv                      0.973871\n",
      "comp1_rate_percent_diff        0.980954\n",
      "comp2_rate                     0.591664\n",
      "comp2_inv                      0.570367\n",
      "comp2_rate_percent_diff        0.887818\n",
      "comp3_rate                     0.690565\n",
      "comp3_inv                      0.667028\n",
      "comp3_rate_percent_diff        0.904646\n",
      "comp4_rate                     0.938008\n",
      "comp4_inv                      0.930690\n",
      "comp4_rate_percent_diff        0.973563\n",
      "comp5_rate                     0.551792\n",
      "comp5_inv                      0.524031\n",
      "comp5_rate_percent_diff        0.830367\n",
      "comp6_rate                     0.951565\n",
      "comp6_inv                      0.947366\n",
      "comp6_rate_percent_diff        0.980604\n",
      "comp7_rate                     0.936401\n",
      "comp7_inv                      0.928117\n",
      "comp7_rate_percent_diff        0.972064\n",
      "comp8_rate                     0.613449\n",
      "comp8_inv                      0.599160\n",
      "comp8_rate_percent_diff        0.876021\n",
      "click_bool                     0.000000\n",
      "gross_bookings_usd             0.972089\n",
      "booking_bool                   0.000000\n",
      "dtype: float64\n"
     ]
    }
   ],
   "source": [
    "print(\"Ratio of nans per feature %s\" % (train_data.isnull().sum(axis=0)/len(train_data)))"
   ]
  },
  {
   "cell_type": "code",
   "execution_count": 16,
   "metadata": {},
   "outputs": [
    {
     "name": "stdout",
     "output_type": "stream",
     "text": [
      "Ratio of nans per feature srch_id                        0.000000\n",
      "date_time                      0.000000\n",
      "site_id                        0.000000\n",
      "visitor_location_country_id    0.000000\n",
      "visitor_hist_starrating        0.948897\n",
      "visitor_hist_adr_usd           0.948656\n",
      "prop_country_id                0.000000\n",
      "prop_id                        0.000000\n",
      "prop_starrating                0.000000\n",
      "prop_review_score              0.001465\n",
      "prop_brand_bool                0.000000\n",
      "prop_location_score1           0.000000\n",
      "prop_location_score2           0.219397\n",
      "prop_log_historical_price      0.000000\n",
      "price_usd                      0.000000\n",
      "promotion_flag                 0.000000\n",
      "srch_destination_id            0.000000\n",
      "srch_length_of_stay            0.000000\n",
      "srch_booking_window            0.000000\n",
      "srch_adults_count              0.000000\n",
      "srch_children_count            0.000000\n",
      "srch_room_count                0.000000\n",
      "srch_saturday_night_bool       0.000000\n",
      "srch_query_affinity_score      0.935845\n",
      "orig_destination_distance      0.324384\n",
      "random_bool                    0.000000\n",
      "comp1_rate                     0.976634\n",
      "comp1_inv                      0.974820\n",
      "comp1_rate_percent_diff        0.981757\n",
      "comp2_rate                     0.593489\n",
      "comp2_inv                      0.572254\n",
      "comp2_rate_percent_diff        0.888367\n",
      "comp3_rate                     0.692493\n",
      "comp3_inv                      0.669052\n",
      "comp3_rate_percent_diff        0.904982\n",
      "comp4_rate                     0.936941\n",
      "comp4_inv                      0.929664\n",
      "comp4_rate_percent_diff        0.973155\n",
      "comp5_rate                     0.551958\n",
      "comp5_inv                      0.523951\n",
      "comp5_rate_percent_diff        0.830636\n",
      "comp6_rate                     0.951135\n",
      "comp6_inv                      0.946933\n",
      "comp6_rate_percent_diff        0.980412\n",
      "comp7_rate                     0.936334\n",
      "comp7_inv                      0.928062\n",
      "comp7_rate_percent_diff        0.971906\n",
      "comp8_rate                     0.616391\n",
      "comp8_inv                      0.602175\n",
      "comp8_rate_percent_diff        0.876799\n",
      "dtype: float64\n"
     ]
    }
   ],
   "source": [
    "print(\"Ratio of nans per feature %s\" % (test_data.isnull().sum(axis=0)/len(test_data)))"
   ]
  },
  {
   "cell_type": "code",
   "execution_count": 18,
   "metadata": {},
   "outputs": [
    {
     "name": "stdout",
     "output_type": "stream",
     "text": [
      "50, 54\n",
      "{'click_bool', 'booking_bool', 'position', 'gross_bookings_usd'}\n"
     ]
    }
   ],
   "source": [
    "print(\"%s, %s\" % (len(test_data.columns), len(train_data.columns)))\n",
    "print(set(train_data.columns) - set(test_data.columns))"
   ]
  },
  {
   "cell_type": "code",
   "execution_count": 42,
   "metadata": {},
   "outputs": [
    {
     "name": "stdout",
     "output_type": "stream",
     "text": [
      "Percentages greater than 100: 1429\n"
     ]
    }
   ],
   "source": [
    "print('Percentages greater than 100: %s' % (train_data.comp2_rate_percent_diff > 200).sum())\n"
   ]
  },
  {
   "cell_type": "code",
   "execution_count": 50,
   "metadata": {},
   "outputs": [
    {
     "data": {
      "text/plain": [
       "site_id  visitor_location_country_id\n",
       "14       115                            0.200000\n",
       "30       164                            0.200000\n",
       "23       81                             0.200000\n",
       "18       224                            0.200000\n",
       "24       53                             0.200000\n",
       "7        202                            0.166667\n",
       "27       70                             0.166667\n",
       "25       128                            0.166667\n",
       "18       70                             0.166667\n",
       "32       12                             0.166667\n",
       "15       156                            0.166667\n",
       "10       106                            0.166667\n",
       "29       50                             0.166667\n",
       "32       16                             0.166667\n",
       "29       70                             0.166667\n",
       "15       163                            0.142857\n",
       "24       71                             0.142857\n",
       "12       194                            0.142857\n",
       "32       21                             0.142857\n",
       "10       200                            0.142857\n",
       "4        206                            0.142857\n",
       "22       103                            0.142857\n",
       "27       52                             0.142857\n",
       "14       146                            0.142857\n",
       "15       153                            0.130435\n",
       "4        31                             0.125000\n",
       "15       72                             0.125000\n",
       "12       150                            0.125000\n",
       "13       31                             0.125000\n",
       "         32                             0.125000\n",
       "                                          ...   \n",
       "24       95                             0.000000\n",
       "         106                            0.000000\n",
       "5        64                             0.000000\n",
       "24       156                            0.000000\n",
       "19       99                             0.000000\n",
       "         32                             0.000000\n",
       "7        216                            0.000000\n",
       "19       1                              0.000000\n",
       "15       82                             0.000000\n",
       "         123                            0.000000\n",
       "         174                            0.000000\n",
       "         194                            0.000000\n",
       "16       5                              0.000000\n",
       "7        32                             0.000000\n",
       "16       12                             0.000000\n",
       "         83                             0.000000\n",
       "         113                            0.000000\n",
       "5        227                            0.000000\n",
       "16       154                            0.000000\n",
       "         212                            0.000000\n",
       "17       55                             0.000000\n",
       "         81                             0.000000\n",
       "5        208                            0.000000\n",
       "         193                            0.000000\n",
       "         190                            0.000000\n",
       "18       36                             0.000000\n",
       "         77                             0.000000\n",
       "5        170                            0.000000\n",
       "18       214                            0.000000\n",
       "34       220                            0.000000\n",
       "Length: 1209, dtype: float64"
      ]
     },
     "execution_count": 50,
     "metadata": {},
     "output_type": "execute_result"
    }
   ],
   "source": [
    "(train_data.groupby(['site_id', 'visitor_location_country_id']).booking_bool.sum() / train_data.groupby(['site_id', 'visitor_location_country_id']).srch_id.count()).sort_values(ascending=False)"
   ]
  },
  {
   "cell_type": "code",
   "execution_count": 52,
   "metadata": {},
   "outputs": [
    {
     "data": {
      "text/plain": [
       "34"
      ]
     },
     "execution_count": 52,
     "metadata": {},
     "output_type": "execute_result"
    }
   ],
   "source": [
    "len(train_data.site_id.unique())"
   ]
  },
  {
   "cell_type": "code",
   "execution_count": 55,
   "metadata": {},
   "outputs": [
    {
     "data": {
      "text/plain": [
       "visitor_hist_starrating_isnull\n",
       "False    0.044238\n",
       "True     0.044776\n",
       "dtype: float64"
      ]
     },
     "execution_count": 55,
     "metadata": {},
     "output_type": "execute_result"
    }
   ],
   "source": [
    "# Does it matter if visitor has booked @ expedia before?\n",
    "train_data['visitor_hist_starrating_isnull'] = train_data.visitor_hist_starrating.isnull()\n",
    "train_data.groupby('visitor_hist_starrating_isnull').click_bool.sum() / train_data.groupby('visitor_hist_starrating_isnull').srch_id.count()"
   ]
  },
  {
   "cell_type": "code",
   "execution_count": 58,
   "metadata": {},
   "outputs": [
    {
     "data": {
      "text/plain": [
       "visitor_hist_starrating_isnull\n",
       "False    0.036083\n",
       "True     0.027473\n",
       "dtype: float64"
      ]
     },
     "execution_count": 58,
     "metadata": {},
     "output_type": "execute_result"
    }
   ],
   "source": [
    "train_data['visitor_hist_starrating_isnull'] = train_data.visitor_hist_starrating.isnull()\n",
    "train_data.groupby('visitor_hist_starrating_isnull').booking_bool.sum() / train_data.groupby('visitor_hist_starrating_isnull').srch_id.count()"
   ]
  },
  {
   "cell_type": "code",
   "execution_count": 56,
   "metadata": {},
   "outputs": [
    {
     "data": {
      "text/plain": [
       "visitor_hist_adr_usd_isnull\n",
       "False    0.044279\n",
       "True     0.044774\n",
       "dtype: float64"
      ]
     },
     "execution_count": 56,
     "metadata": {},
     "output_type": "execute_result"
    }
   ],
   "source": [
    "train_data['visitor_hist_adr_usd_isnull'] = train_data.visitor_hist_adr_usd.isnull()\n",
    "train_data.groupby('visitor_hist_adr_usd_isnull').click_bool.sum() / train_data.groupby('visitor_hist_adr_usd_isnull').srch_id.count()"
   ]
  },
  {
   "cell_type": "code",
   "execution_count": 57,
   "metadata": {},
   "outputs": [
    {
     "data": {
      "text/plain": [
       "visitor_hist_adr_usd_isnull\n",
       "False    0.036104\n",
       "True     0.027470\n",
       "dtype: float64"
      ]
     },
     "execution_count": 57,
     "metadata": {},
     "output_type": "execute_result"
    }
   ],
   "source": [
    "train_data['visitor_hist_adr_usd_isnull'] = train_data.visitor_hist_adr_usd.isnull()\n",
    "train_data.groupby('visitor_hist_adr_usd_isnull').booking_bool.sum() / train_data.groupby('visitor_hist_adr_usd_isnull').srch_id.count()"
   ]
  },
  {
   "cell_type": "code",
   "execution_count": 59,
   "metadata": {},
   "outputs": [
    {
     "data": {
      "text/plain": [
       "count    251866.000000\n",
       "mean          3.374334\n",
       "std           0.692519\n",
       "min           1.410000\n",
       "25%           2.920000\n",
       "50%           3.450000\n",
       "75%           3.930000\n",
       "max           5.000000\n",
       "Name: visitor_hist_starrating, dtype: float64"
      ]
     },
     "execution_count": 59,
     "metadata": {},
     "output_type": "execute_result"
    }
   ],
   "source": [
    "train_data.visitor_hist_starrating.describe()"
   ]
  }
 ],
 "metadata": {
  "kernelspec": {
   "display_name": "Python 3",
   "language": "python",
   "name": "python3"
  },
  "language_info": {
   "codemirror_mode": {
    "name": "ipython",
    "version": 3
   },
   "file_extension": ".py",
   "mimetype": "text/x-python",
   "name": "python",
   "nbconvert_exporter": "python",
   "pygments_lexer": "ipython3",
   "version": "3.6.4"
  }
 },
 "nbformat": 4,
 "nbformat_minor": 1
}
